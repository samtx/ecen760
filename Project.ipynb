{
 "cells": [
  {
   "cell_type": "markdown",
   "metadata": {},
   "source": [
    "# Homework 2\n",
    "Sam Friedman\n",
    "\n",
    "## Problem 1\n",
    "Find d-separated nodes. Assume that we have a Bayesian network graph $\\mathit{G}$. Given a set of observed nodes $\\mathbf{E}$, we want to find the set of nodes $\\mathit{Y}$ that contains all nodes that are d-separated from the source node $X$.\n",
    "    \n",
    "    "
   ]
  },
  {
   "cell_type": "code",
   "execution_count": 10,
   "metadata": {},
   "outputs": [
    {
     "name": "stdout",
     "output_type": "stream",
     "text": [
      "0.30000000000000004\n"
     ]
    },
    {
     "ename": "ImportError",
     "evalue": "No module named 'decimal.Decimal'; 'decimal' is not a package",
     "output_type": "error",
     "traceback": [
      "\u001b[0;31m---------------------------------------------------------------------------\u001b[0m",
      "\u001b[0;31mImportError\u001b[0m                               Traceback (most recent call last)",
      "\u001b[0;32m<ipython-input-10-35729904e5fa>\u001b[0m in \u001b[0;36m<module>\u001b[0;34m\u001b[0m\n\u001b[1;32m      3\u001b[0m \u001b[0mprint\u001b[0m\u001b[0;34m(\u001b[0m\u001b[0mx\u001b[0m\u001b[0;34m)\u001b[0m\u001b[0;34m\u001b[0m\u001b[0m\n\u001b[1;32m      4\u001b[0m \u001b[0;34m\u001b[0m\u001b[0m\n\u001b[0;32m----> 5\u001b[0;31m \u001b[0;32mimport\u001b[0m \u001b[0mdecimal\u001b[0m\u001b[0;34m.\u001b[0m\u001b[0mDecimal\u001b[0m \u001b[0;32mas\u001b[0m \u001b[0mdec\u001b[0m\u001b[0;34m\u001b[0m\u001b[0m\n\u001b[0m\u001b[1;32m      6\u001b[0m \u001b[0mdec\u001b[0m\u001b[0;34m(\u001b[0m\u001b[0;36m1\u001b[0m\u001b[0;34m)\u001b[0m\u001b[0;34m-\u001b[0m\u001b[0mdec\u001b[0m\u001b[0;34m(\u001b[0m\u001b[0;36m0.7\u001b[0m\u001b[0;34m)\u001b[0m\u001b[0;34m\u001b[0m\u001b[0m\n",
      "\u001b[0;31mImportError\u001b[0m: No module named 'decimal.Decimal'; 'decimal' is not a package"
     ]
    }
   ],
   "source": [
    "import math\n",
    "x = math.fsum([1,-0.7])\n",
    "print(x)\n",
    "\n"
   ]
  },
  {
   "cell_type": "code",
   "execution_count": 16,
   "metadata": {},
   "outputs": [
    {
     "ename": "AttributeError",
     "evalue": "module 'decimal' has no attribute 'add'",
     "output_type": "error",
     "traceback": [
      "\u001b[0;31m---------------------------------------------------------------------------\u001b[0m",
      "\u001b[0;31mAttributeError\u001b[0m                            Traceback (most recent call last)",
      "\u001b[0;32m<ipython-input-16-b71de3935fc7>\u001b[0m in \u001b[0;36m<module>\u001b[0;34m\u001b[0m\n\u001b[1;32m      2\u001b[0m \u001b[0mdec\u001b[0m \u001b[0;34m=\u001b[0m \u001b[0mdecimal\u001b[0m\u001b[0;34m.\u001b[0m\u001b[0mDecimal\u001b[0m\u001b[0;34m\u001b[0m\u001b[0m\n\u001b[1;32m      3\u001b[0m \u001b[0mx\u001b[0m \u001b[0;34m=\u001b[0m \u001b[0mdec\u001b[0m\u001b[0;34m(\u001b[0m\u001b[0;36m1.0\u001b[0m\u001b[0;34m)\u001b[0m\u001b[0;34m-\u001b[0m\u001b[0mdec\u001b[0m\u001b[0;34m(\u001b[0m\u001b[0;36m0.7\u001b[0m\u001b[0;34m)\u001b[0m\u001b[0;34m\u001b[0m\u001b[0m\n\u001b[0;32m----> 4\u001b[0;31m \u001b[0mx\u001b[0m \u001b[0;34m=\u001b[0m \u001b[0mdecimal\u001b[0m\u001b[0;34m.\u001b[0m\u001b[0madd\u001b[0m\u001b[0;34m(\u001b[0m\u001b[0;36m1\u001b[0m\u001b[0;34m-\u001b[0m\u001b[0;36m0.7\u001b[0m\u001b[0;34m)\u001b[0m\u001b[0;34m\u001b[0m\u001b[0m\n\u001b[0m",
      "\u001b[0;31mAttributeError\u001b[0m: module 'decimal' has no attribute 'add'"
     ]
    }
   ],
   "source": [
    "import decimal\n",
    "dec = decimal.Decimal\n",
    "x = dec(1.0)-dec(0.7)\n",
    "x = decimal.add(1-0.7)\n"
   ]
  },
  {
   "cell_type": "code",
   "execution_count": 77,
   "metadata": {},
   "outputs": [],
   "source": [
    "data_list = [\n",
    "    [('C',1,0.1),('A',0),('B',0)], # [(variable, value, probability),(givenVar, givenVal),...,(givenVar, givenVal)]\n",
    "    [('C',1,0.3),('A',1),('B',0)],\n",
    "    [('C',1,0.5),('A',0),('B',1)],\n",
    "    [('C',1,0.9),('A',1),('B',1)]\n",
    "]"
   ]
  },
  {
   "cell_type": "code",
   "execution_count": 51,
   "metadata": {},
   "outputs": [],
   "source": [
    "data=[('C',1,0.1),('A',1),('B',0)]# [(variable, value, probability),(givenVar, givenVal),...,(givenVar, givenVal)]"
   ]
  },
  {
   "cell_type": "code",
   "execution_count": 10,
   "metadata": {},
   "outputs": [],
   "source": [
    "import numpy as np"
   ]
  },
  {
   "cell_type": "code",
   "execution_count": null,
   "metadata": {},
   "outputs": [],
   "source": []
  },
  {
   "cell_type": "code",
   "execution_count": 83,
   "metadata": {},
   "outputs": [
    {
     "name": "stdout",
     "output_type": "stream",
     "text": [
      "[[[0. 0.]\n",
      "  [0. 0.]]\n",
      "\n",
      " [[0. 0.]\n",
      "  [0. 0.]]]\n"
     ]
    }
   ],
   "source": [
    "def cpd_init(data):\n",
    "    size_ary = [2]\n",
    "    var_index = [data[0][0]]\n",
    "    for given_var in data[1:]:\n",
    "        #print(given_var)\n",
    "        var_index.append(given_var[0]) # add var name to index\n",
    "        size_ary.append(2)\n",
    "    cpd = np.zeros(size_ary)\n",
    "    return cpd\n",
    "    \n",
    "cpd = cpd_init(data)\n",
    "\n",
    "print(cpd)"
   ]
  },
  {
   "cell_type": "code",
   "execution_count": 84,
   "metadata": {},
   "outputs": [
    {
     "data": {
      "text/plain": [
       "array([[[0., 0.],\n",
       "        [0., 0.]],\n",
       "\n",
       "       [[0., 0.],\n",
       "        [0., 0.]]])"
      ]
     },
     "execution_count": 84,
     "metadata": {},
     "output_type": "execute_result"
    }
   ],
   "source": [
    "def update_cpd(data, cpd):\n",
    "    # add prob. to cpd based on data\n",
    "    prob_idx = list(np.zeros([len(data)],dtype=int))\n",
    "    for var in data:\n",
    "        idx = var_index.index(var[0])\n",
    "        prob_idx[idx] = var[1]\n",
    "    prob_idx = tuple(prob_idx)\n",
    "    print(prob_idx)"
   ]
  },
  {
   "cell_type": "code",
   "execution_count": null,
   "metadata": {},
   "outputs": [],
   "source": [
    "for data in data"
   ]
  },
  {
   "cell_type": "code",
   "execution_count": 52,
   "metadata": {},
   "outputs": [
    {
     "data": {
      "text/plain": [
       "['C', 'B', 'A']"
      ]
     },
     "execution_count": 52,
     "metadata": {},
     "output_type": "execute_result"
    }
   ],
   "source": [
    "var_index"
   ]
  },
  {
   "cell_type": "code",
   "execution_count": 69,
   "metadata": {},
   "outputs": [
    {
     "name": "stdout",
     "output_type": "stream",
     "text": [
      "[[[0. 0.]\n",
      "  [0. 0.]]\n",
      "\n",
      " [[0. 0.]\n",
      "  [0. 0.]]]\n",
      "(1, 0, 1)\n"
     ]
    }
   ],
   "source": [
    "cpd = np.zeros(size_ary)\n",
    "print(cpd)\n",
    "# add prob. to cpd based on data\n",
    "prob_idx = list(np.zeros([len(data)],dtype=int))\n",
    "for var in data:\n",
    "    idx = var_index.index(var[0])\n",
    "    prob_idx[idx] = var[1]\n",
    "prob_idx = tuple(prob_idx)\n",
    "print(prob_idx)"
   ]
  },
  {
   "cell_type": "code",
   "execution_count": 76,
   "metadata": {},
   "outputs": [
    {
     "name": "stdout",
     "output_type": "stream",
     "text": [
      "0.1\n",
      "0.1\n",
      "[[[0.  0.9]\n",
      "  [0.  0. ]]\n",
      "\n",
      " [[0.  0.1]\n",
      "  [0.  0. ]]]\n"
     ]
    },
    {
     "data": {
      "text/plain": [
       "array([[[0. , 0.9],\n",
       "        [0. , 0. ]],\n",
       "\n",
       "       [[0. , 0.1],\n",
       "        [0. , 0. ]]])"
      ]
     },
     "execution_count": 76,
     "metadata": {},
     "output_type": "execute_result"
    }
   ],
   "source": [
    "print(cpd[prob_idx])\n",
    "val = data[0][2]\n",
    "print(val)\n",
    "cpd[prob_idx]=val\n",
    "print(cpd)\n",
    "alt_prob_index = list(prob_idx)\n",
    "if data[0][1] == 0:\n",
    "    alt_idx = 1\n",
    "else:\n",
    "    alt_idx = 0\n",
    "alt_prob_index[0] = alt_idx\n",
    "cpd[tuple(alt_prob_index)]=1-val\n",
    "cpd\n",
    "\n"
   ]
  },
  {
   "cell_type": "code",
   "execution_count": 104,
   "metadata": {},
   "outputs": [
    {
     "data": {
      "text/plain": [
       "[0, 1, 0]"
      ]
     },
     "execution_count": 104,
     "metadata": {},
     "output_type": "execute_result"
    }
   ],
   "source": [
    "ary = [1,1,0]\n",
    "ary[0] ^= 1\n",
    "ary"
   ]
  },
  {
   "cell_type": "code",
   "execution_count": 24,
   "metadata": {},
   "outputs": [
    {
     "data": {
      "text/plain": [
       "[0.9, 0.1]"
      ]
     },
     "execution_count": 24,
     "metadata": {},
     "output_type": "execute_result"
    }
   ],
   "source": [
    "var_index = []\n",
    "var_data = data[0]\n",
    "var_index.append(var_data[0])\n",
    "if len(data)>1:\n",
    "    # make multidimensional array table\n",
    "var_ary = []\n",
    "var_value = var_data[1]\n",
    "var_prob = var_data[2]\n",
    "if var_value == 0:\n",
    "    var_ary.append(var_prob)\n",
    "    var_ary.append(1-var_prob)\n",
    "else:\n",
    "    var_ary.append(1-var_prob)\n",
    "    var_ary.append(var_prob)\n",
    "var_ary"
   ]
  },
  {
   "cell_type": "code",
   "execution_count": 116,
   "metadata": {},
   "outputs": [
    {
     "name": "stdout",
     "output_type": "stream",
     "text": [
      "['A1', '=', '0.7']\n",
      "[('A', '1', '0.7')]\n",
      "['B1', '=', '0.4']\n",
      "[('B', '1', '0.4')]\n",
      "['C1', '|', 'A0,', 'B0', '=', '0.1']\n",
      "[('C', '1', '0.1'), ('A', '0'), ('B', '0')]\n",
      "['C1', '|', 'A1,', 'B0', '=', '0.3']\n",
      "[('C', '1', '0.3'), ('A', '1'), ('B', '0')]\n",
      "['D1', '|', 'C0', '=', '0.8']\n",
      "[('D', '1', '0.8'), ('C', '0')]\n",
      "['D1', '|', 'C1', '=', '0.3']\n",
      "[('D', '1', '0.3'), ('C', '1')]\n",
      "['F1', '|', 'D0', '=', '0.1']\n",
      "[('F', '1', '0.1'), ('D', '0')]\n",
      "['F1', '|', 'D1', '=', '0.7']\n",
      "[('F', '1', '0.7'), ('D', '1')]\n",
      "['B1', '=', '0.4']\n",
      "[('B', '1', '0.4')]\n",
      "['C1', '|', 'A0,', 'B1', '=', '0.5']\n",
      "[('C', '1', '0.5'), ('A', '0'), ('B', '1')]\n",
      "['C1', '|', 'A1,', 'B1', '=', '0.9']\n",
      "[('C', '1', '0.9'), ('A', '1'), ('B', '1')]\n",
      "['E1', '|', 'C0', '=', '0.2']\n",
      "[('E', '1', '0.2'), ('C', '0')]\n",
      "['E1', '|', 'C1', '=', '0.6']\n",
      "[('E', '1', '0.6'), ('C', '1')]\n",
      "['G1', '|', 'D0', '=', '0.9']\n",
      "[('G', '1', '0.9'), ('D', '0')]\n",
      "['G1', '|', 'D1', '=', '0.4']\n",
      "[('G', '1', '0.4'), ('D', '1')]\n"
     ]
    }
   ],
   "source": [
    "with open('project_cpds.txt', 'r') as f:\n",
    "    for raw_line in f:\n",
    "        line = raw_line.split()\n",
    "#         print(raw_line)\n",
    "        print(line)\n",
    "        if '=' in line:\n",
    "            # build data list\n",
    "            data_list = []\n",
    "            prob = line[-1]\n",
    "            data_list.append((line[0][0],line[0][1],prob))\n",
    "            for x in line[1:]:\n",
    "                if x == '|':\n",
    "                    continue\n",
    "                if x == '=':\n",
    "                    break\n",
    "                if x[0].isalpha() and x[1].isdigit():\n",
    "                    data_list.append((x[0],x[1]))\n",
    "            print(data_list)"
   ]
  },
  {
   "cell_type": "code",
   "execution_count": 1,
   "metadata": {},
   "outputs": [
    {
     "ename": "TypeError",
     "evalue": "unsupported operand type(s) for -: 'int' and 'str'",
     "output_type": "error",
     "traceback": [
      "\u001b[0;31m---------------------------------------------------------------------------\u001b[0m",
      "\u001b[0;31mTypeError\u001b[0m                                 Traceback (most recent call last)",
      "\u001b[0;32m<ipython-input-1-09897dd1c0ac>\u001b[0m in \u001b[0;36m<module>\u001b[0;34m\u001b[0m\n\u001b[1;32m      1\u001b[0m \u001b[0;32mfrom\u001b[0m \u001b[0mFriedman_Sam_hw2\u001b[0m \u001b[0;32mimport\u001b[0m \u001b[0mGraph\u001b[0m\u001b[0;34m,\u001b[0m \u001b[0mCPD\u001b[0m\u001b[0;34m,\u001b[0m \u001b[0mread_file\u001b[0m\u001b[0;34m\u001b[0m\u001b[0m\n\u001b[1;32m      2\u001b[0m \u001b[0;34m\u001b[0m\u001b[0m\n\u001b[0;32m----> 3\u001b[0;31m \u001b[0;34m(\u001b[0m\u001b[0mG\u001b[0m\u001b[0;34m,\u001b[0m \u001b[0mqueries\u001b[0m\u001b[0;34m)\u001b[0m \u001b[0;34m=\u001b[0m \u001b[0mread_file\u001b[0m\u001b[0;34m(\u001b[0m\u001b[0;34m'project.txt'\u001b[0m\u001b[0;34m)\u001b[0m\u001b[0;34m\u001b[0m\u001b[0m\n\u001b[0m\u001b[1;32m      4\u001b[0m \u001b[0mG\u001b[0m\u001b[0;34m.\u001b[0m\u001b[0medges\u001b[0m\u001b[0;34m\u001b[0m\u001b[0m\n",
      "\u001b[0;32m~/code/ecen760/Friedman_Sam_hw2.py\u001b[0m in \u001b[0;36mread_file\u001b[0;34m(fname)\u001b[0m\n\u001b[1;32m    269\u001b[0m                 \u001b[0mG\u001b[0m \u001b[0;34m=\u001b[0m \u001b[0mGraph\u001b[0m\u001b[0;34m(\u001b[0m\u001b[0medges\u001b[0m\u001b[0;34m=\u001b[0m\u001b[0medges\u001b[0m\u001b[0;34m)\u001b[0m\u001b[0;34m\u001b[0m\u001b[0m\n\u001b[1;32m    270\u001b[0m                 \u001b[0;32mfor\u001b[0m \u001b[0mcpd\u001b[0m \u001b[0;32min\u001b[0m \u001b[0mcpds\u001b[0m\u001b[0;34m:\u001b[0m\u001b[0;34m\u001b[0m\u001b[0m\n\u001b[0;32m--> 271\u001b[0;31m                     \u001b[0mG\u001b[0m\u001b[0;34m.\u001b[0m\u001b[0mupdate_cpd\u001b[0m\u001b[0;34m(\u001b[0m\u001b[0mcpd\u001b[0m\u001b[0;34m)\u001b[0m\u001b[0;34m\u001b[0m\u001b[0m\n\u001b[0m\u001b[1;32m    272\u001b[0m \u001b[0;34m\u001b[0m\u001b[0m\n\u001b[1;32m    273\u001b[0m                 \u001b[0;31m# Validate graph\u001b[0m\u001b[0;34m\u001b[0m\u001b[0;34m\u001b[0m\u001b[0m\n",
      "\u001b[0;32m~/code/ecen760/Friedman_Sam_hw2.py\u001b[0m in \u001b[0;36mupdate_cpd\u001b[0;34m(self, data_list)\u001b[0m\n\u001b[1;32m     39\u001b[0m     \u001b[0;32mdef\u001b[0m \u001b[0mupdate_cpd\u001b[0m\u001b[0;34m(\u001b[0m\u001b[0mself\u001b[0m\u001b[0;34m,\u001b[0m \u001b[0mdata_list\u001b[0m\u001b[0;34m)\u001b[0m\u001b[0;34m:\u001b[0m\u001b[0;34m\u001b[0m\u001b[0m\n\u001b[1;32m     40\u001b[0m         \u001b[0mnode\u001b[0m \u001b[0;34m=\u001b[0m \u001b[0mdata_list\u001b[0m\u001b[0;34m[\u001b[0m\u001b[0;36m0\u001b[0m\u001b[0;34m]\u001b[0m\u001b[0;34m[\u001b[0m\u001b[0;36m0\u001b[0m\u001b[0;34m]\u001b[0m\u001b[0;34m\u001b[0m\u001b[0m\n\u001b[0;32m---> 41\u001b[0;31m         \u001b[0mself\u001b[0m\u001b[0;34m.\u001b[0m\u001b[0mcpd\u001b[0m\u001b[0;34m[\u001b[0m\u001b[0mnode\u001b[0m\u001b[0;34m]\u001b[0m\u001b[0;34m.\u001b[0m\u001b[0mupdate\u001b[0m\u001b[0;34m(\u001b[0m\u001b[0mdata_list\u001b[0m\u001b[0;34m)\u001b[0m\u001b[0;34m\u001b[0m\u001b[0m\n\u001b[0m\u001b[1;32m     42\u001b[0m \u001b[0;34m\u001b[0m\u001b[0m\n\u001b[1;32m     43\u001b[0m     \u001b[0;32mdef\u001b[0m \u001b[0madd_node\u001b[0m\u001b[0;34m(\u001b[0m\u001b[0mself\u001b[0m\u001b[0;34m,\u001b[0m \u001b[0mnode\u001b[0m\u001b[0;34m)\u001b[0m\u001b[0;34m:\u001b[0m\u001b[0;34m\u001b[0m\u001b[0m\n",
      "\u001b[0;32m~/code/ecen760/Friedman_Sam_hw2.py\u001b[0m in \u001b[0;36mupdate\u001b[0;34m(self, data_list)\u001b[0m\n\u001b[1;32m    201\u001b[0m             \u001b[0mprob_idx\u001b[0m\u001b[0;34m[\u001b[0m\u001b[0midx\u001b[0m\u001b[0;34m]\u001b[0m \u001b[0;34m=\u001b[0m \u001b[0mdata\u001b[0m\u001b[0;34m[\u001b[0m\u001b[0;36m1\u001b[0m\u001b[0;34m]\u001b[0m\u001b[0;34m\u001b[0m\u001b[0m\n\u001b[1;32m    202\u001b[0m         \u001b[0malt_prob_idx\u001b[0m \u001b[0;34m=\u001b[0m \u001b[0mprob_idx\u001b[0m\u001b[0;34m.\u001b[0m\u001b[0mcopy\u001b[0m\u001b[0;34m(\u001b[0m\u001b[0;34m)\u001b[0m\u001b[0;34m\u001b[0m\u001b[0m\n\u001b[0;32m--> 203\u001b[0;31m         \u001b[0malt_prob_idx\u001b[0m\u001b[0;34m[\u001b[0m\u001b[0;36m0\u001b[0m\u001b[0;34m]\u001b[0m \u001b[0;34m=\u001b[0m \u001b[0;36m1\u001b[0m \u001b[0;34m-\u001b[0m \u001b[0malt_prob_idx\u001b[0m\u001b[0;34m[\u001b[0m\u001b[0;36m0\u001b[0m\u001b[0;34m]\u001b[0m  \u001b[0;31m# flip the outcome\u001b[0m\u001b[0;34m\u001b[0m\u001b[0m\n\u001b[0m\u001b[1;32m    204\u001b[0m         \u001b[0mprob_idx\u001b[0m \u001b[0;34m=\u001b[0m \u001b[0mtuple\u001b[0m\u001b[0;34m(\u001b[0m\u001b[0mprob_idx\u001b[0m\u001b[0;34m)\u001b[0m\u001b[0;34m\u001b[0m\u001b[0m\n\u001b[1;32m    205\u001b[0m         \u001b[0malt_prob_idx\u001b[0m \u001b[0;34m=\u001b[0m \u001b[0mtuple\u001b[0m\u001b[0;34m(\u001b[0m\u001b[0malt_prob_idx\u001b[0m\u001b[0;34m)\u001b[0m\u001b[0;34m\u001b[0m\u001b[0m\n",
      "\u001b[0;31mTypeError\u001b[0m: unsupported operand type(s) for -: 'int' and 'str'"
     ]
    }
   ],
   "source": [
    "from Friedman_Sam_hw2 import Graph, CPD, read_file\n",
    "\n",
    "(G, queries) = read_file('project.txt')\n",
    "G.edges"
   ]
  },
  {
   "cell_type": "code",
   "execution_count": 18,
   "metadata": {},
   "outputs": [
    {
     "name": "stdout",
     "output_type": "stream",
     "text": [
      "['a', 'b', 'c']\n",
      "['a', 'b', 'c']\n",
      "[0, 0, 0]\n",
      "0.0\n"
     ]
    }
   ],
   "source": [
    "idx = ['a','b','c']\n",
    "print(idx)\n",
    "# idx2 = idx.copy()\n",
    "idx2 = [0 for x in idx]\n",
    "print(idx)\n",
    "print(idx2)\n",
    "val = 0.9\n",
    "val2 = np.round(1-val)\n",
    "print(val2)"
   ]
  },
  {
   "cell_type": "code",
   "execution_count": 158,
   "metadata": {},
   "outputs": [],
   "source": [
    "class Graph(object):\n",
    "    \"\"\"\n",
    "    Graph object that has sets of nodes and edges\n",
    "    \"\"\"\n",
    "\n",
    "    def __init__(self, edges=set(), nodes=set()):\n",
    "        self.parents = {}\n",
    "        self.children = {}\n",
    "        self.nodes = nodes\n",
    "        if len(nodes) > 0:\n",
    "            self.size = len(nodes)\n",
    "        else:\n",
    "            self.size = 0\n",
    "        self.edges = edges\n",
    "\n",
    "        self.build_parent_and_child_sets()\n",
    "\n",
    "    def add_node(self, node):\n",
    "        \"\"\"\n",
    "        Add node to graph\n",
    "        \"\"\"\n",
    "        if node not in self.nodes:\n",
    "            self.size += 1\n",
    "            self.nodes.add((node))\n",
    "        else:\n",
    "            pass\n",
    "\n",
    "    def build_parent_and_child_sets(self):\n",
    "        \"\"\"\n",
    "        Loop through set of edges and\n",
    "            - add nodes to Graph object\n",
    "            - create Graph.parents, Graph.children dictionaries\n",
    "        \"\"\"\n",
    "        for edge in self.edges:\n",
    "            u, v = edge\n",
    "            self.add_node(u)\n",
    "            self.add_node(v)\n",
    "\n",
    "            if v not in self.parents:\n",
    "                self.parents.update({v: set(u)})\n",
    "            else:\n",
    "                self.parents[v].add(u)\n",
    "\n",
    "            if u not in self.children:\n",
    "                self.children.update({u: set(v)})\n",
    "            else:\n",
    "                self.children[u].add(v)\n",
    "\n",
    "    def get_parents(self, node):\n",
    "        \"\"\"\n",
    "        Return parents of node\n",
    "        \"\"\"\n",
    "        if node in self.parents:\n",
    "            return self.parents[node]\n",
    "        else:\n",
    "            return set()\n",
    "\n",
    "    def get_children(self, node):\n",
    "        \"\"\"\n",
    "        Return children of node\n",
    "        \"\"\"\n",
    "        if node in self.children:\n",
    "            return self.children[node]\n",
    "        else:\n",
    "            return set()\n",
    "\n",
    "    def is_active(self, a, b, Z):\n",
    "        \"\"\"\n",
    "        Verify if there exists an active trail from node a to b given evidence set Z\n",
    "        \"\"\"\n",
    "        # Find set Y of all nodes that are d_separated from a\n",
    "        Y = self.d_separated(a, Z)\n",
    "\n",
    "        # If b is in Y then there is no active trail\n",
    "        return not (b in Y)\n",
    "\n",
    "    def d_separated(self, X, Z):\n",
    "        \"\"\"\n",
    "        Find the set Y of all d-separated nodes such that\n",
    "\n",
    "                d-sep_G(X indep Y | Z) is True\n",
    "\n",
    "        Uses the Reachable() algorithm 3.1 in PGM book\n",
    "        \"\"\"\n",
    "        # Find all reachable nodes from node X given Z\n",
    "        R = self.reachable(X, Z)\n",
    "\n",
    "        # Return nodes in G that are not in R and not in Z\n",
    "        dsep_nodes = self.nodes - R - Z\n",
    "\n",
    "        return dsep_nodes\n",
    "\n",
    "    def reachable(self, X, Z):\n",
    "        \"\"\" \n",
    "        Find all nodes that are reachable via an active trail from the given\n",
    "        node and evidence set.\n",
    "\n",
    "        Based on Algorithm 3.1, page 75, in PGM book\n",
    "\n",
    "        inputs:\n",
    "            X: starting node\n",
    "            Z: set of observations\n",
    "        outputs:\n",
    "            R: set of nodes reachable via active trail\n",
    "        \"\"\"\n",
    "        # Phase 1: insert all ancestors of Z into A\n",
    "        L = Z.copy()  # set L to be the set of observations\n",
    "        A = set()  # set A to be the empty set\n",
    "        while len(L) != 0:\n",
    "            Y = L.pop()  # remove an item from the set\n",
    "            if Y not in A:\n",
    "                L = L.union(self.get_parents(Y))  # Y's parents need to be visited\n",
    "            A = A.union(Y)  # Y is ancestor of evidence\n",
    "\n",
    "        # Phase 2: traverse active trails starting from node\n",
    "        L = {(X, 'up')}\n",
    "        V = set()  # (node, direction) marked as visited\n",
    "        R = set()  # Nodes reachable via active trail\n",
    "        while len(L) != 0:\n",
    "            # select some (Y, dr) from L\n",
    "            (Y, dr) = L.pop()\n",
    "            if (Y, dr) not in V:\n",
    "                if Y not in Z:\n",
    "                    R = R | {Y}  # Y is reachable\n",
    "                V = V | {(Y, dr)}  # mark (Y, dr) as visited\n",
    "                if dr == 'up' and Y not in Z:\n",
    "                    # trail up through Y active if Y not in Z\n",
    "                    for z in self.get_parents(Y):\n",
    "                        L = L.union({(z, 'up')})  # Y's parents to be visited from bottom\n",
    "                    for z in self.get_children(Y):\n",
    "                        L = L.union({(z, 'down')})  # Y's children to be visited from top\n",
    "                elif dr == 'down':\n",
    "                    # trails down through Y\n",
    "                    if Y not in Z:\n",
    "                        # downward trails to Y's children are active\n",
    "                        for z in self.get_children(Y):\n",
    "                            L = L.union({(z, 'down')})  # Y's children to be visited from top\n",
    "                    if Y in A:\n",
    "                        # v-structure trails are active\n",
    "                        for z in self.get_parents(Y):\n",
    "                            L = L.union({(z, 'up')})  # Y's parents to be visited from bottom\n",
    "        return R\n",
    "    \n",
    "    def Pearl_init(self, x, E):\n",
    "        \"\"\"\n",
    "        Pearl's Message Passing Algorithm for ECEN760 Project\n",
    "        \n",
    "        Parameters:\n",
    "            x : node to query\n",
    "            E : dict of evidence sets\n",
    "        \n",
    "        Returns:\n",
    "            lmda : lambda(x) \n",
    "            pi   : pi(x)\n",
    "            P    : P(x | e)\n",
    "        \"\"\"\n",
    "        \n",
    "        # Initialize network\n",
    "        E = set()\n",
    "        e = set()\n",
    "        \n",
    "        for x in all_x:\n",
    "            \n",
    "        \n",
    "        \n",
    "\n",
    "\n",
    "def read_file(fname):\n",
    "    \"\"\"\n",
    "    Read problem file, generate graph and questions\n",
    "    \"\"\"\n",
    "    g_list = []  # list of graphs\n",
    "    q_list = []  # list of queries\n",
    "    edges = set()\n",
    "    queries = []\n",
    "    V, M, Q = 0, 0, 0\n",
    "    with open(fname) as f:\n",
    "        for raw_line in f:\n",
    "            # split the line into components separated by whitespace\n",
    "            line = raw_line.split()\n",
    "            # skip '#' as comment\n",
    "            if line[0][0] == '#':\n",
    "                continue\n",
    "\n",
    "            # New Graph description\n",
    "            elif all([x.isdigit() for x in line]):\n",
    "                edges = set()\n",
    "                queries = []\n",
    "                V, M, Q = [int(x) for x in line]\n",
    "                # V: number of nodes\n",
    "                # M: number of edges\n",
    "                # Q: number of queries\n",
    "\n",
    "            # Edges\n",
    "            elif all([x.isalpha() for x in line]) and len(edges) < M:\n",
    "                u, v = line\n",
    "                edges = edges | {(u, v)}\n",
    "\n",
    "            # Queries\n",
    "            elif line[1] == '|' and len(queries) < Q:\n",
    "                y = line[0]  # source node Y\n",
    "                z = {x for x in line[2:]}  # evidence set Z\n",
    "                queries.append((y, z))\n",
    "\n",
    "            # Create Graph object\n",
    "            if (len(edges) == M) and (len(queries) == Q):\n",
    "                G = Graph(edges=edges)\n",
    "\n",
    "                # Validate graph\n",
    "                err = False\n",
    "                if len(G.nodes) != V:\n",
    "                    print('Not the correct number of nodes')\n",
    "                    err = True\n",
    "                if len(G.edges) != M:\n",
    "                    print('Not the correct number of edges')\n",
    "                    err = True\n",
    "                if err:\n",
    "                    return\n",
    "\n",
    "                g_list.append(G)\n",
    "                q_list.append(queries)\n",
    "\n",
    "    return g_list, q_list                        \n",
    "\n",
    "# Build Graph from homework 1, problem 3\n",
    "nodes = set(('A','B','C','D','E','F','G','H','I','J','K','L','M'))\n",
    "edges = set([('A','D'),('B','D'),('D','G'),('D','H'),('G','K'),('H','K'),\\\n",
    "             ('H','E'),('C','E'),('E','I'),('F','I'),('F','J'),('I','L'),\\\n",
    "             ('J','M')])\n",
    "G = Graph(edges=edges)"
   ]
  },
  {
   "cell_type": "code",
   "execution_count": 159,
   "metadata": {},
   "outputs": [
    {
     "name": "stdout",
     "output_type": "stream",
     "text": [
      "$$ A={'K', 'E', 'B', 'A', 'H', 'G', 'D', 'C'}   Y=D   L=set()\n",
      "hello!!\n",
      "(Y,dr)=('H', 'up')\n",
      "&& R=set()   Y=H   Z={'K', 'E'}   L=set()\n",
      "RRR={'H'}\n",
      "V={('H', 'up')}   Y=H   L=set()   Z={'K', 'E'}\n",
      "dr=up\n",
      "yoyoyo\n",
      "parents of H -> {'D'}\n",
      "tmp_iter=set()\n",
      "children of H -> {'K', 'E'}\n",
      "**tmp_iter={'K', 'E'}\n",
      "z=K  L={('K', 'down')}\n",
      "z=E  L={('K', 'down'), ('E', 'down')}\n",
      "hello!!\n",
      "(Y,dr)=('K', 'down')\n",
      "&& R={'H'}   Y=K   Z={'K', 'E'}   L={('E', 'down')}\n",
      "V={('K', 'down'), ('H', 'up')}   Y=K   L={('E', 'down')}   Z={'K', 'E'}\n",
      "dr=down\n",
      "hello!!\n",
      "(Y,dr)=('E', 'down')\n",
      "&& R={'H'}   Y=E   Z={'K', 'E'}   L=set()\n",
      "V={('K', 'down'), ('E', 'down'), ('H', 'up')}   Y=E   L=set()   Z={'K', 'E'}\n",
      "dr=down\n",
      "dsep nodes: {'H'}\n"
     ]
    }
   ],
   "source": [
    "# part (f)\n",
    "Z = set(('K','E'))\n",
    "dsep_nodes = G.d_separated('H', Z)\n",
    "print('dsep nodes:', dsep_nodes)"
   ]
  },
  {
   "cell_type": "code",
   "execution_count": 72,
   "metadata": {},
   "outputs": [
    {
     "name": "stdout",
     "output_type": "stream",
     "text": [
      "dsep nodes: None\n"
     ]
    }
   ],
   "source": [
    "\n",
    "# # print('children', G.children)\n",
    "# # print('parents', G.parents)\n",
    "# # print('nodes', G.nodes)\n",
    "# # print('size', G.size)\n",
    "\n",
    "# start = 'L'\n",
    "# visited, stack = set(), [start]\n",
    "# while stack:\n",
    "#     vertex = stack.pop()\n",
    "#     if vertex not in visited:\n",
    "#         visited.add(vertex)\n",
    "#         stack.extend(G.get_parents(vertex) - visited)\n",
    "# result = visited-set((start))\n",
    "# print('end visited {}'.format(result))\n",
    "# a1 = result\n",
    "# a2 = G.find_ancestors('L')\n",
    "# print('a1',a1)\n",
    "# print('a2',a2)\n",
    "# print(a1 == a2)\n",
    "\n",
    "# node = 'I'\n",
    "# print('find desc of',node)\n",
    "# print(G.find_descendants(node))\n",
    "\n",
    "# # find ancestors\n",
    "# print('find ancestors')\n",
    "# print(G.find_ancestors('L'))\n",
    "# print('--find ancestors')\n",
    "\n",
    "\n",
    "\n",
    "# nodes = set(('A','B','C','D','E','F','G','H','I','J','K','L','M'))\n",
    "# print(nodes)"
   ]
  },
  {
   "cell_type": "code",
   "execution_count": 102,
   "metadata": {},
   "outputs": [
    {
     "name": "stdout",
     "output_type": "stream",
     "text": [
      "hello\n",
      "{'E'}\n",
      "{'qwe', 'asdf', 'g', 'E'}\n"
     ]
    },
    {
     "data": {
      "text/plain": [
       "False"
      ]
     },
     "execution_count": 102,
     "metadata": {},
     "output_type": "execute_result"
    }
   ],
   "source": [
    "A = set()\n",
    "i = 0\n",
    "print('hello')\n",
    "Z = set(('K','E'))\n",
    "Z.pop()\n",
    "b = set(('asdf','asdf','qwe','g'))\n",
    "a=Z.union(b)\n",
    "print(Z)\n",
    "print(a)\n",
    "node = 'L'\n",
    "L = set([(node, 'up'),('B','down')])\n",
    "L\n",
    "('B', 'up') in L"
   ]
  },
  {
   "cell_type": "code",
   "execution_count": 41,
   "metadata": {},
   "outputs": [
    {
     "name": "stdout",
     "output_type": "stream",
     "text": [
      "{'a'}\n",
      "{'b', 'a'}\n",
      "['b']\n",
      "{'b'}\n",
      "False\n",
      "{'b'}\n"
     ]
    },
    {
     "ename": "TypeError",
     "evalue": "unhashable type: 'dict'",
     "output_type": "error",
     "traceback": [
      "\u001b[1;31m---------------------------------------------------------------------------\u001b[0m",
      "\u001b[1;31mTypeError\u001b[0m                                 Traceback (most recent call last)",
      "\u001b[1;32m<ipython-input-41-52b778dbc7e6>\u001b[0m in \u001b[0;36m<module>\u001b[1;34m()\u001b[0m\n\u001b[0;32m     16\u001b[0m \u001b[1;33m\u001b[0m\u001b[0m\n\u001b[0;32m     17\u001b[0m \u001b[0mprint\u001b[0m\u001b[1;33m(\u001b[0m\u001b[0ml2\u001b[0m\u001b[1;33m)\u001b[0m\u001b[1;33m\u001b[0m\u001b[0m\n\u001b[1;32m---> 18\u001b[1;33m \u001b[0ml2\u001b[0m\u001b[1;33m.\u001b[0m\u001b[0madd\u001b[0m\u001b[1;33m(\u001b[0m\u001b[1;33m{\u001b[0m\u001b[1;33m}\u001b[0m\u001b[1;33m)\u001b[0m\u001b[1;33m\u001b[0m\u001b[0m\n\u001b[0m\u001b[0;32m     19\u001b[0m \u001b[0mprint\u001b[0m\u001b[1;33m(\u001b[0m\u001b[0ml2\u001b[0m\u001b[1;33m)\u001b[0m\u001b[1;33m\u001b[0m\u001b[0m\n",
      "\u001b[1;31mTypeError\u001b[0m: unhashable type: 'dict'"
     ]
    }
   ],
   "source": [
    "s = set()\n",
    "s.add('a')\n",
    "print(s)\n",
    "s.add('b')\n",
    "print(s)\n",
    "s.add('a')\n",
    "s\n",
    "\n",
    "l = []\n",
    "l.append('b')\n",
    "print(l)\n",
    "l2 = set(l)\n",
    "print(l2)\n",
    "print(isinstance(l2, list))\n",
    "isinstance(l2, set)\n",
    "\n",
    "print(l2)\n",
    "l2.add({})\n",
    "print(l2)"
   ]
  }
 ],
 "metadata": {
  "anaconda-cloud": {},
  "kernelspec": {
   "display_name": "Python 3",
   "language": "python",
   "name": "python3"
  },
  "language_info": {
   "codemirror_mode": {
    "name": "ipython",
    "version": 3
   },
   "file_extension": ".py",
   "mimetype": "text/x-python",
   "name": "python",
   "nbconvert_exporter": "python",
   "pygments_lexer": "ipython3",
   "version": "3.5.2"
  }
 },
 "nbformat": 4,
 "nbformat_minor": 1
}
