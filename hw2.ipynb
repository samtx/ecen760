{
 "cells": [
  {
   "cell_type": "markdown",
   "metadata": {},
   "source": [
    "# Homework 2\n",
    "Sam Friedman\n",
    "\n",
    "## Problem 1\n",
    "Find d-separated nodes. Assume that we have a Bayesian network graph $\\mathit{G}$. Given a set of observed nodes $\\mathbf{E}$, we want to find the set of nodes $\\mathit{Y}$ that contains all nodes that are d-separated from the source node $X$.\n",
    "    \n",
    "    "
   ]
  },
  {
   "cell_type": "code",
   "execution_count": 32,
   "metadata": {
    "collapsed": false
   },
   "outputs": [
    {
     "name": "stdout",
     "output_type": "stream",
     "text": [
      "{('F', 'I'), ('A', 'D'), ('D', 'H'), ('F', 'J'), ('G', 'K'), ('D', 'G'), ('B', 'D'), ('C', 'E'), ('J', 'M'), ('H', 'E'), ('H', 'K'), ('I', 'L'), ('E', 'I')}\n",
      "hello!\n"
     ]
    }
   ],
   "source": [
    "# Create a Graph object\n",
    "class Graph(object):\n",
    "    ''' Graph object that has sets of nodes and edges '''\n",
    "    def __init__(self, edges=set(), nodes=set(), observations=set()):\n",
    "#         self.nodes = nodes\n",
    "        self.parents = {}\n",
    "        self.children = {}\n",
    "        self.edges = edges\n",
    "        self.obs = observations\n",
    "\n",
    "        self.build_parent_and_child_sets()\n",
    "        \n",
    "        def build_parent_and_child_sets(self):\n",
    "            for edge in self.edges:\n",
    "                u, v = edge\n",
    "                if v not in self.parents:\n",
    "                    self.parents.update({v : set(u)})\n",
    "                else:\n",
    "                    self.parents[v].add(u)\n",
    "                \n",
    "                if u not in self.children:\n",
    "                    self.children.update({u : set(v)})\n",
    "                else:\n",
    "                    self.children[u].add(v)\n",
    "        \n",
    "                \n",
    "        #         if not edges:\n",
    "#             self.edges = self.build_edge_set()\n",
    "#         else:\n",
    "#             self.edges\n",
    "        \n",
    "#     def build_edge_set(self):\n",
    "#         nodes = self.nodes\n",
    "#         edges = set()\n",
    "#         for node in nodes:\n",
    "#             for child in node.c:\n",
    "#                 edges.add((node, child))\n",
    "#             for parent in node.p:\n",
    "#                 edges.add((parent, node))\n",
    "                      \n",
    "# Create Node object\n",
    "# class Node(object):\n",
    "#     ''' Node object with links to parent, children, and neighbor nodes '''\n",
    "#     def __init__(self, parents=set(), children=set(), neighbors=set()):\n",
    "#         self.p = parents\n",
    "#         self.c = children\n",
    "#         #self.n = neighbors\n",
    "    \n",
    "#     def add_parent(self, parent):\n",
    "#         self.p.add(parent)\n",
    "    \n",
    "#     def add_child(self, child):\n",
    "#         self.c.add(child)\n",
    "    \n",
    "    #def add_neighbor(self, neighbor):\n",
    "    #    self.n.append(neighbor)\n",
    "        \n",
    "        \n",
    "# Build Graph from homework 1, problem 3\n",
    "nodes = set(('A','B','C','D','E','F','G','H','I','J','K','L','M'))\n",
    "edges = set([('A','D'),('B','D'),('D','G'),('D','H'),('G','K'),('H','K'),\\\n",
    "             ('H','E'),('C','E'),('E','I'),('F','I'),('F','J'),('I','L'),\\\n",
    "             ('J','M')])\n",
    "print(edges)\n",
    "\n",
    "\n",
    "def d_separated():\n",
    "    print('hello!')\n",
    "\n",
    "d_separated()"
   ]
  },
  {
   "cell_type": "code",
   "execution_count": 29,
   "metadata": {
    "collapsed": false
   },
   "outputs": [
    {
     "name": "stdout",
     "output_type": "stream",
     "text": [
      "{'L', 'D', 'I', 'E', 'M', 'K', 'A', 'G', 'C', 'B', 'F', 'H', 'J'}\n"
     ]
    }
   ],
   "source": [
    "nodes = set(('A','B','C','D','E','F','G','H','I','J','K','L','M'))\n",
    "print(nodes)"
   ]
  },
  {
   "cell_type": "code",
   "execution_count": 22,
   "metadata": {
    "collapsed": false
   },
   "outputs": [
    {
     "name": "stdout",
     "output_type": "stream",
     "text": [
      "{'a'}\n",
      "{'b', 'a'}\n",
      "['b']\n",
      "{'b'}\n",
      "False\n"
     ]
    },
    {
     "data": {
      "text/plain": [
       "True"
      ]
     },
     "execution_count": 22,
     "metadata": {},
     "output_type": "execute_result"
    }
   ],
   "source": [
    "s = set()\n",
    "s.add('a')\n",
    "print(s)\n",
    "s.add('b')\n",
    "print(s)\n",
    "s.add('a')\n",
    "s\n",
    "\n",
    "l = []\n",
    "l.append('b')\n",
    "print(l)\n",
    "l2 = set(l)\n",
    "print(l2)\n",
    "print(isinstance(l2, list))\n",
    "isinstance(l2, set)"
   ]
  }
 ],
 "metadata": {
  "anaconda-cloud": {},
  "kernelspec": {
   "display_name": "Python [conda env:env]",
   "language": "python",
   "name": "conda-env-env-py"
  },
  "language_info": {
   "codemirror_mode": {
    "name": "ipython",
    "version": 3
   },
   "file_extension": ".py",
   "mimetype": "text/x-python",
   "name": "python",
   "nbconvert_exporter": "python",
   "pygments_lexer": "ipython3",
   "version": "3.6.2"
  }
 },
 "nbformat": 4,
 "nbformat_minor": 1
}
