{
 "cells": [
  {
   "cell_type": "markdown",
   "metadata": {},
   "source": [
    "# Homework 2\n",
    "Sam Friedman\n",
    "\n",
    "## Problem 1\n",
    "Find d-separated nodes. Assume that we have a Bayesian network graph $\\mathit{G}$. Given a set of observed nodes $\\mathbf{E}$, we want to find the set of nodes $\\mathit{Y}$ that contains all nodes that are d-separated from the source node $X$.\n",
    "    \n",
    "    "
   ]
  },
  {
   "cell_type": "code",
   "execution_count": 45,
   "metadata": {},
   "outputs": [],
   "source": [
    "# Create a Graph object\n",
    "class Graph(object):\n",
    "    ''' Graph object that has sets of nodes and edges '''\n",
    "    def __init__(self, edges=set(), nodes=set(), observations=set()):\n",
    "        self.parents = {}\n",
    "        self.children = {}\n",
    "        self.nodes = nodes\n",
    "        if len(nodes) > 0:\n",
    "            self.size = len(nodes)\n",
    "        else:\n",
    "            self.size = 0\n",
    "        self.edges = edges\n",
    "        self.obs = observations\n",
    "\n",
    "        self.build_parent_and_child_sets()\n",
    "    \n",
    "    def add_node(self, node):\n",
    "        ''' Add node to graph '''\n",
    "        if node not in self.nodes:\n",
    "            self.size += 1\n",
    "            self.nodes.add((node))\n",
    "        else:\n",
    "            pass\n",
    "    \n",
    "    def build_parent_and_child_sets(self):\n",
    "        for edge in self.edges:\n",
    "            u, v = edge\n",
    "            self.add_node(u)\n",
    "            self.add_node(v)\n",
    "                \n",
    "            if v not in self.parents:\n",
    "                self.parents.update({v : set(u)})\n",
    "            else:\n",
    "                self.parents[v].add(u)\n",
    "\n",
    "            if u not in self.children:\n",
    "                self.children.update({u : set(v)})\n",
    "            else:\n",
    "                self.children[u].add(v)\n",
    "                \n",
    "    def get_parents(self, node):\n",
    "        ''' Return parents of node '''\n",
    "        if node in self.parents:\n",
    "            return self.parents[node]\n",
    "        else:\n",
    "            return set()\n",
    "    \n",
    "    def get_children(self, node):\n",
    "        ''' Return children of node '''\n",
    "        if node in self.children:\n",
    "            return self.children[node]\n",
    "        else:\n",
    "            return set()\n",
    "                \n",
    "    def find_ancestors(self, source_node):\n",
    "        ''' Find all ancestors of node '''\n",
    "        visited = set()  # initialize ancestor set\n",
    "        queue = [source_node]              \n",
    "        while queue:\n",
    "            vertex = queue.pop(0)\n",
    "            if vertex not in visited:\n",
    "                visited.add(vertex)\n",
    "                queue.extend(self.get_parents(vertex)-visited)\n",
    "        return visited\n",
    "        \n",
    "                \n",
    "    def d_separated(self, node, obs):\n",
    "        ''' \n",
    "        Find all nodes that are d_separated from node given observation\n",
    "        Based on Algorithm 3.1, page 75, in PGM book\n",
    "        '''\n",
    "        # Phase 1: insert all ancestors of Z into A\n",
    "        L = obs  # set L to be the set of observations\n",
    "        pass       "
   ]
  },
  {
   "cell_type": "code",
   "execution_count": 46,
   "metadata": {},
   "outputs": [
    {
     "name": "stdout",
     "output_type": "stream",
     "text": [
      "end visited {'L', 'E', 'B', 'F', 'I', 'A', 'H', 'D', 'C'}\n"
     ]
    },
    {
     "data": {
      "text/plain": [
       "True"
      ]
     },
     "execution_count": 46,
     "metadata": {},
     "output_type": "execute_result"
    }
   ],
   "source": [
    "# Build Graph from homework 1, problem 3\n",
    "nodes = set(('A','B','C','D','E','F','G','H','I','J','K','L','M'))\n",
    "edges = set([('A','D'),('B','D'),('D','G'),('D','H'),('G','K'),('H','K'),\\\n",
    "             ('H','E'),('C','E'),('E','I'),('F','I'),('F','J'),('I','L'),\\\n",
    "             ('J','M')])\n",
    "G = Graph(edges=edges)\n",
    "# print('children', G.children)\n",
    "# print('parents', G.parents)\n",
    "# print('nodes', G.nodes)\n",
    "# print('size', G.size)\n",
    "\n",
    "start = 'L'\n",
    "visited, stack = set(), [start]\n",
    "while stack:\n",
    "    vertex = stack.pop()\n",
    "    if vertex not in visited:\n",
    "        visited.add(vertex)\n",
    "        stack.extend(G.get_parents(vertex) - visited)\n",
    "print('end visited {}'.format(visited))\n",
    "a1 = visited\n",
    "a2 = G.find_ancestors('L')\n",
    "a1 == a2\n",
    "\n",
    "# # find ancestors\n",
    "# print('find ancestors')\n",
    "# print(G.find_ancestors('L'))\n",
    "# print('--find ancestors')\n",
    "\n",
    "# # part (f)\n",
    "# Z = set(('K','E'))\n",
    "# dsep_nodes = G.d_separated('A',Z)\n",
    "# print('dsep nodes:', dsep_nodes)\n"
   ]
  },
  {
   "cell_type": "code",
   "execution_count": 29,
   "metadata": {},
   "outputs": [
    {
     "name": "stdout",
     "output_type": "stream",
     "text": [
      "{'L', 'D', 'I', 'E', 'M', 'K', 'A', 'G', 'C', 'B', 'F', 'H', 'J'}\n"
     ]
    }
   ],
   "source": [
    "nodes = set(('A','B','C','D','E','F','G','H','I','J','K','L','M'))\n",
    "print(nodes)"
   ]
  },
  {
   "cell_type": "code",
   "execution_count": 41,
   "metadata": {},
   "outputs": [
    {
     "name": "stdout",
     "output_type": "stream",
     "text": [
      "{'a'}\n",
      "{'b', 'a'}\n",
      "['b']\n",
      "{'b'}\n",
      "False\n",
      "{'b'}\n"
     ]
    },
    {
     "ename": "TypeError",
     "evalue": "unhashable type: 'dict'",
     "output_type": "error",
     "traceback": [
      "\u001b[1;31m---------------------------------------------------------------------------\u001b[0m",
      "\u001b[1;31mTypeError\u001b[0m                                 Traceback (most recent call last)",
      "\u001b[1;32m<ipython-input-41-52b778dbc7e6>\u001b[0m in \u001b[0;36m<module>\u001b[1;34m()\u001b[0m\n\u001b[0;32m     16\u001b[0m \u001b[1;33m\u001b[0m\u001b[0m\n\u001b[0;32m     17\u001b[0m \u001b[0mprint\u001b[0m\u001b[1;33m(\u001b[0m\u001b[0ml2\u001b[0m\u001b[1;33m)\u001b[0m\u001b[1;33m\u001b[0m\u001b[0m\n\u001b[1;32m---> 18\u001b[1;33m \u001b[0ml2\u001b[0m\u001b[1;33m.\u001b[0m\u001b[0madd\u001b[0m\u001b[1;33m(\u001b[0m\u001b[1;33m{\u001b[0m\u001b[1;33m}\u001b[0m\u001b[1;33m)\u001b[0m\u001b[1;33m\u001b[0m\u001b[0m\n\u001b[0m\u001b[0;32m     19\u001b[0m \u001b[0mprint\u001b[0m\u001b[1;33m(\u001b[0m\u001b[0ml2\u001b[0m\u001b[1;33m)\u001b[0m\u001b[1;33m\u001b[0m\u001b[0m\n",
      "\u001b[1;31mTypeError\u001b[0m: unhashable type: 'dict'"
     ]
    }
   ],
   "source": [
    "s = set()\n",
    "s.add('a')\n",
    "print(s)\n",
    "s.add('b')\n",
    "print(s)\n",
    "s.add('a')\n",
    "s\n",
    "\n",
    "l = []\n",
    "l.append('b')\n",
    "print(l)\n",
    "l2 = set(l)\n",
    "print(l2)\n",
    "print(isinstance(l2, list))\n",
    "isinstance(l2, set)\n",
    "\n",
    "print(l2)\n",
    "l2.add({})\n",
    "print(l2)"
   ]
  }
 ],
 "metadata": {
  "anaconda-cloud": {},
  "kernelspec": {
   "display_name": "Python 3",
   "language": "python",
   "name": "python3"
  },
  "language_info": {
   "codemirror_mode": {
    "name": "ipython",
    "version": 3
   },
   "file_extension": ".py",
   "mimetype": "text/x-python",
   "name": "python",
   "nbconvert_exporter": "python",
   "pygments_lexer": "ipython3",
   "version": "3.6.2"
  }
 },
 "nbformat": 4,
 "nbformat_minor": 1
}
